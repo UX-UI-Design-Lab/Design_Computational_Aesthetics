{
  "nbformat": 4,
  "nbformat_minor": 0,
  "metadata": {
    "colab": {
      "name": "basic-for.ipynb",
      "provenance": [],
      "collapsed_sections": [],
      "authorship_tag": "ABX9TyNT957MzMuEXUiVEzodssUY",
      "include_colab_link": true
    },
    "kernelspec": {
      "name": "python3",
      "display_name": "Python 3"
    },
    "language_info": {
      "name": "python"
    }
  },
  "cells": [
    {
      "cell_type": "markdown",
      "metadata": {
        "id": "view-in-github",
        "colab_type": "text"
      },
      "source": [
        "<a href=\"https://colab.research.google.com/github/UX-UI-Design-Lab/Design_Computational_Aesthetics/blob/main/basic_for.ipynb\" target=\"_parent\"><img src=\"https://colab.research.google.com/assets/colab-badge.svg\" alt=\"Open In Colab\"/></a>"
      ]
    },
    {
      "cell_type": "code",
      "metadata": {
        "colab": {
          "base_uri": "https://localhost:8080/"
        },
        "id": "DRBzjbPBX4hb",
        "outputId": "52567c49-86cd-477a-9b73-b90ecc6bbba8"
      },
      "source": [
        "for x in range(5):\n",
        "  for y in range(5):\n",
        "    print(\"o\")"
      ],
      "execution_count": 1,
      "outputs": [
        {
          "output_type": "stream",
          "text": [
            "o\n",
            "o\n",
            "o\n",
            "o\n",
            "o\n",
            "o\n",
            "o\n",
            "o\n",
            "o\n",
            "o\n",
            "o\n",
            "o\n",
            "o\n",
            "o\n",
            "o\n",
            "o\n",
            "o\n",
            "o\n",
            "o\n",
            "o\n",
            "o\n",
            "o\n",
            "o\n",
            "o\n",
            "o\n"
          ],
          "name": "stdout"
        }
      ]
    },
    {
      "cell_type": "code",
      "metadata": {
        "colab": {
          "base_uri": "https://localhost:8080/"
        },
        "id": "COkwfRO2giqo",
        "outputId": "0ba18ade-5218-403d-88ce-c1d5aaa3d559"
      },
      "source": [
        "row = str(\"\")\n",
        "column = str(\"\")\n",
        "for x in range(5):\n",
        "  for y in range(5):\n",
        "    row += \"o\"\n",
        "  column += row + \"\\n\"\n",
        "  row = \"\"\n",
        "print(column)\n",
        "  \n"
      ],
      "execution_count": 14,
      "outputs": [
        {
          "output_type": "stream",
          "text": [
            "ooooo\n",
            "ooooo\n",
            "ooooo\n",
            "ooooo\n",
            "ooooo\n",
            "\n"
          ],
          "name": "stdout"
        }
      ]
    },
    {
      "cell_type": "code",
      "metadata": {
        "id": "d9Cj252xl4z2"
      },
      "source": [
        "from IPython.display import SVG, display\n",
        "def show_svg():\n",
        "    display(SVG(url=\"\""
      ],
      "execution_count": null,
      "outputs": []
    }
  ]
}